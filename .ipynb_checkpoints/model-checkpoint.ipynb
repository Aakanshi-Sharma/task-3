{
 "cells": [
  {
   "cell_type": "code",
   "execution_count": 1,
   "id": "16fa50f2",
   "metadata": {},
   "outputs": [
    {
     "name": "stdout",
     "output_type": "stream",
     "text": [
      "Requirement already satisfied: tf-nightly in c:\\users\\dell\\appdata\\local\\programs\\python\\python310\\lib\\site-packages (2.13.0.dev20230410)\n",
      "Requirement already satisfied: tf-nightly-intel==2.13.0-dev20230410 in c:\\users\\dell\\appdata\\local\\programs\\python\\python310\\lib\\site-packages (from tf-nightly) (2.13.0.dev20230410)\n",
      "Requirement already satisfied: keras-nightly~=2.13.0.dev in c:\\users\\dell\\appdata\\local\\programs\\python\\python310\\lib\\site-packages (from tf-nightly-intel==2.13.0-dev20230410->tf-nightly) (2.13.0.dev2023041007)\n",
      "Requirement already satisfied: typing-extensions>=3.6.6 in c:\\users\\dell\\appdata\\local\\programs\\python\\python310\\lib\\site-packages (from tf-nightly-intel==2.13.0-dev20230410->tf-nightly) (4.4.0)\n",
      "Requirement already satisfied: opt-einsum>=2.3.2 in c:\\users\\dell\\appdata\\local\\programs\\python\\python310\\lib\\site-packages (from tf-nightly-intel==2.13.0-dev20230410->tf-nightly) (3.3.0)\n",
      "Requirement already satisfied: flatbuffers>=23.1.21 in c:\\users\\dell\\appdata\\local\\programs\\python\\python310\\lib\\site-packages (from tf-nightly-intel==2.13.0-dev20230410->tf-nightly) (23.1.21)\n",
      "Requirement already satisfied: tb-nightly~=2.13.0.a in c:\\users\\dell\\appdata\\local\\programs\\python\\python310\\lib\\site-packages (from tf-nightly-intel==2.13.0-dev20230410->tf-nightly) (2.13.0a20230410)\n",
      "Requirement already satisfied: absl-py>=1.0.0 in c:\\users\\dell\\appdata\\local\\programs\\python\\python310\\lib\\site-packages (from tf-nightly-intel==2.13.0-dev20230410->tf-nightly) (1.4.0)\n",
      "Requirement already satisfied: wrapt<1.15,>=1.11.0 in c:\\users\\dell\\appdata\\local\\programs\\python\\python310\\lib\\site-packages (from tf-nightly-intel==2.13.0-dev20230410->tf-nightly) (1.14.1)\n",
      "Requirement already satisfied: numpy<1.24,>=1.22 in c:\\users\\dell\\appdata\\local\\programs\\python\\python310\\lib\\site-packages (from tf-nightly-intel==2.13.0-dev20230410->tf-nightly) (1.23.1)\n",
      "Requirement already satisfied: libclang>=13.0.0 in c:\\users\\dell\\appdata\\local\\programs\\python\\python310\\lib\\site-packages (from tf-nightly-intel==2.13.0-dev20230410->tf-nightly) (15.0.6.1)\n",
      "Requirement already satisfied: gast<=0.4.0,>=0.2.1 in c:\\users\\dell\\appdata\\local\\programs\\python\\python310\\lib\\site-packages (from tf-nightly-intel==2.13.0-dev20230410->tf-nightly) (0.4.0)\n",
      "Requirement already satisfied: h5py>=2.9.0 in c:\\users\\dell\\appdata\\local\\programs\\python\\python310\\lib\\site-packages (from tf-nightly-intel==2.13.0-dev20230410->tf-nightly) (3.8.0)\n",
      "Requirement already satisfied: google-pasta>=0.1.1 in c:\\users\\dell\\appdata\\local\\programs\\python\\python310\\lib\\site-packages (from tf-nightly-intel==2.13.0-dev20230410->tf-nightly) (0.2.0)\n",
      "Requirement already satisfied: tf-estimator-nightly~=2.13.0.dev in c:\\users\\dell\\appdata\\local\\programs\\python\\python310\\lib\\site-packages (from tf-nightly-intel==2.13.0-dev20230410->tf-nightly) (2.13.0.dev2023041008)\n",
      "Requirement already satisfied: tensorflow-io-gcs-filesystem>=0.23.1 in c:\\users\\dell\\appdata\\local\\programs\\python\\python310\\lib\\site-packages (from tf-nightly-intel==2.13.0-dev20230410->tf-nightly) (0.30.0)\n",
      "Requirement already satisfied: protobuf!=4.21.0,!=4.21.1,!=4.21.2,!=4.21.3,!=4.21.4,!=4.21.5,<5.0.0dev,>=3.20.3 in c:\\users\\dell\\appdata\\local\\programs\\python\\python310\\lib\\site-packages (from tf-nightly-intel==2.13.0-dev20230410->tf-nightly) (3.20.3)\n",
      "Requirement already satisfied: setuptools in c:\\users\\dell\\appdata\\local\\programs\\python\\python310\\lib\\site-packages (from tf-nightly-intel==2.13.0-dev20230410->tf-nightly) (58.1.0)\n",
      "Requirement already satisfied: termcolor>=1.1.0 in c:\\users\\dell\\appdata\\local\\programs\\python\\python310\\lib\\site-packages (from tf-nightly-intel==2.13.0-dev20230410->tf-nightly) (2.2.0)\n",
      "Requirement already satisfied: astunparse>=1.6.0 in c:\\users\\dell\\appdata\\local\\programs\\python\\python310\\lib\\site-packages (from tf-nightly-intel==2.13.0-dev20230410->tf-nightly) (1.6.3)\n",
      "Requirement already satisfied: packaging in c:\\users\\dell\\appdata\\local\\programs\\python\\python310\\lib\\site-packages (from tf-nightly-intel==2.13.0-dev20230410->tf-nightly) (21.3)\n",
      "Requirement already satisfied: six>=1.12.0 in c:\\users\\dell\\appdata\\local\\programs\\python\\python310\\lib\\site-packages (from tf-nightly-intel==2.13.0-dev20230410->tf-nightly) (1.16.0)\n",
      "Requirement already satisfied: grpcio<2.0,>=1.24.3 in c:\\users\\dell\\appdata\\local\\programs\\python\\python310\\lib\\site-packages (from tf-nightly-intel==2.13.0-dev20230410->tf-nightly) (1.51.1)\n",
      "Requirement already satisfied: wheel<1.0,>=0.23.0 in c:\\users\\dell\\appdata\\local\\programs\\python\\python310\\lib\\site-packages (from astunparse>=1.6.0->tf-nightly-intel==2.13.0-dev20230410->tf-nightly) (0.38.4)\n",
      "Requirement already satisfied: tensorboard-data-server<0.8.0,>=0.7.0 in c:\\users\\dell\\appdata\\local\\programs\\python\\python310\\lib\\site-packages (from tb-nightly~=2.13.0.a->tf-nightly-intel==2.13.0-dev20230410->tf-nightly) (0.7.0)\n",
      "Requirement already satisfied: requests<3,>=2.21.0 in c:\\users\\dell\\appdata\\local\\programs\\python\\python310\\lib\\site-packages (from tb-nightly~=2.13.0.a->tf-nightly-intel==2.13.0-dev20230410->tf-nightly) (2.28.1)\n",
      "Requirement already satisfied: markdown>=2.6.8 in c:\\users\\dell\\appdata\\local\\programs\\python\\python310\\lib\\site-packages (from tb-nightly~=2.13.0.a->tf-nightly-intel==2.13.0-dev20230410->tf-nightly) (3.4.1)\n",
      "Requirement already satisfied: google-auth<3,>=1.6.3 in c:\\users\\dell\\appdata\\local\\programs\\python\\python310\\lib\\site-packages (from tb-nightly~=2.13.0.a->tf-nightly-intel==2.13.0-dev20230410->tf-nightly) (2.16.0)\n",
      "Requirement already satisfied: tensorboard-plugin-wit>=1.6.0 in c:\\users\\dell\\appdata\\local\\programs\\python\\python310\\lib\\site-packages (from tb-nightly~=2.13.0.a->tf-nightly-intel==2.13.0-dev20230410->tf-nightly) (1.8.1)\n",
      "Requirement already satisfied: werkzeug>=1.0.1 in c:\\users\\dell\\appdata\\local\\programs\\python\\python310\\lib\\site-packages (from tb-nightly~=2.13.0.a->tf-nightly-intel==2.13.0-dev20230410->tf-nightly) (2.2.2)\n",
      "Requirement already satisfied: google-auth-oauthlib<1.1,>=0.5 in c:\\users\\dell\\appdata\\local\\programs\\python\\python310\\lib\\site-packages (from tb-nightly~=2.13.0.a->tf-nightly-intel==2.13.0-dev20230410->tf-nightly) (1.0.0)\n",
      "Requirement already satisfied: pyparsing!=3.0.5,>=2.0.2 in c:\\users\\dell\\appdata\\local\\programs\\python\\python310\\lib\\site-packages (from packaging->tf-nightly-intel==2.13.0-dev20230410->tf-nightly) (3.0.9)\n",
      "Requirement already satisfied: cachetools<6.0,>=2.0.0 in c:\\users\\dell\\appdata\\local\\programs\\python\\python310\\lib\\site-packages (from google-auth<3,>=1.6.3->tb-nightly~=2.13.0.a->tf-nightly-intel==2.13.0-dev20230410->tf-nightly) (5.2.0)\n",
      "Requirement already satisfied: rsa<5,>=3.1.4 in c:\\users\\dell\\appdata\\local\\programs\\python\\python310\\lib\\site-packages (from google-auth<3,>=1.6.3->tb-nightly~=2.13.0.a->tf-nightly-intel==2.13.0-dev20230410->tf-nightly) (4.9)\n",
      "Requirement already satisfied: pyasn1-modules>=0.2.1 in c:\\users\\dell\\appdata\\local\\programs\\python\\python310\\lib\\site-packages (from google-auth<3,>=1.6.3->tb-nightly~=2.13.0.a->tf-nightly-intel==2.13.0-dev20230410->tf-nightly) (0.2.8)\n",
      "Requirement already satisfied: requests-oauthlib>=0.7.0 in c:\\users\\dell\\appdata\\local\\programs\\python\\python310\\lib\\site-packages (from google-auth-oauthlib<1.1,>=0.5->tb-nightly~=2.13.0.a->tf-nightly-intel==2.13.0-dev20230410->tf-nightly) (1.3.1)\n",
      "Requirement already satisfied: certifi>=2017.4.17 in c:\\users\\dell\\appdata\\local\\programs\\python\\python310\\lib\\site-packages (from requests<3,>=2.21.0->tb-nightly~=2.13.0.a->tf-nightly-intel==2.13.0-dev20230410->tf-nightly) (2022.9.24)\n",
      "Requirement already satisfied: urllib3<1.27,>=1.21.1 in c:\\users\\dell\\appdata\\local\\programs\\python\\python310\\lib\\site-packages (from requests<3,>=2.21.0->tb-nightly~=2.13.0.a->tf-nightly-intel==2.13.0-dev20230410->tf-nightly) (1.26.13)\n",
      "Requirement already satisfied: idna<4,>=2.5 in c:\\users\\dell\\appdata\\local\\programs\\python\\python310\\lib\\site-packages (from requests<3,>=2.21.0->tb-nightly~=2.13.0.a->tf-nightly-intel==2.13.0-dev20230410->tf-nightly) (3.4)\n",
      "Requirement already satisfied: charset-normalizer<3,>=2 in c:\\users\\dell\\appdata\\local\\programs\\python\\python310\\lib\\site-packages (from requests<3,>=2.21.0->tb-nightly~=2.13.0.a->tf-nightly-intel==2.13.0-dev20230410->tf-nightly) (2.1.1)\n",
      "Requirement already satisfied: MarkupSafe>=2.1.1 in c:\\users\\dell\\appdata\\local\\programs\\python\\python310\\lib\\site-packages (from werkzeug>=1.0.1->tb-nightly~=2.13.0.a->tf-nightly-intel==2.13.0-dev20230410->tf-nightly) (2.1.1)\n",
      "Requirement already satisfied: pyasn1<0.5.0,>=0.4.6 in c:\\users\\dell\\appdata\\local\\programs\\python\\python310\\lib\\site-packages (from pyasn1-modules>=0.2.1->google-auth<3,>=1.6.3->tb-nightly~=2.13.0.a->tf-nightly-intel==2.13.0-dev20230410->tf-nightly) (0.4.8)\n",
      "Requirement already satisfied: oauthlib>=3.0.0 in c:\\users\\dell\\appdata\\local\\programs\\python\\python310\\lib\\site-packages (from requests-oauthlib>=0.7.0->google-auth-oauthlib<1.1,>=0.5->tb-nightly~=2.13.0.a->tf-nightly-intel==2.13.0-dev20230410->tf-nightly) (3.2.2)\n"
     ]
    },
    {
     "name": "stderr",
     "output_type": "stream",
     "text": [
      "WARNING: Ignoring invalid distribution -rotobuf (c:\\users\\dell\\appdata\\local\\programs\\python\\python310\\lib\\site-packages)\n",
      "WARNING: Ignoring invalid distribution -rotobuf (c:\\users\\dell\\appdata\\local\\programs\\python\\python310\\lib\\site-packages)\n",
      "WARNING: Ignoring invalid distribution -rotobuf (c:\\users\\dell\\appdata\\local\\programs\\python\\python310\\lib\\site-packages)\n",
      "WARNING: Ignoring invalid distribution -rotobuf (c:\\users\\dell\\appdata\\local\\programs\\python\\python310\\lib\\site-packages)\n",
      "WARNING: Ignoring invalid distribution -rotobuf (c:\\users\\dell\\appdata\\local\\programs\\python\\python310\\lib\\site-packages)\n",
      "WARNING: Ignoring invalid distribution -rotobuf (c:\\users\\dell\\appdata\\local\\programs\\python\\python310\\lib\\site-packages)\n",
      "\n",
      "[notice] A new release of pip available: 22.3.1 -> 23.0.1\n",
      "[notice] To update, run: python.exe -m pip install --upgrade pip\n"
     ]
    },
    {
     "name": "stdout",
     "output_type": "stream",
     "text": [
      "2.13.0-dev20230410\n"
     ]
    }
   ],
   "source": [
    "# import libraries\n",
    "try:\n",
    "  # %tensorflow_version only exists in Colab.\n",
    "  !pip install tf-nightly\n",
    "except Exception:\n",
    "  pass\n",
    "import tensorflow as tf\n",
    "import pandas as pd\n",
    "from tensorflow import keras\n",
    "import numpy as np\n",
    "import matplotlib.pyplot as plt\n",
    "\n",
    "print(tf.__version__)"
   ]
  },
  {
   "cell_type": "code",
   "execution_count": 2,
   "id": "39003f79",
   "metadata": {},
   "outputs": [],
   "source": [
    "# get data files\n",
    "x_train=pd.read_csv(\"train-data.tsv\", sep='\\t')\n",
    "x_test=pd.read_csv(\"valid-data.tsv\", sep='\\t')"
   ]
  },
  {
   "cell_type": "code",
   "execution_count": 5,
   "id": "c6829f63",
   "metadata": {},
   "outputs": [
    {
     "data": {
      "text/plain": [
       "(4178, 2)"
      ]
     },
     "execution_count": 5,
     "metadata": {},
     "output_type": "execute_result"
    }
   ],
   "source": [
    "x_train.shape"
   ]
  },
  {
   "cell_type": "code",
   "execution_count": null,
   "id": "abcd9558",
   "metadata": {},
   "outputs": [],
   "source": []
  }
 ],
 "metadata": {
  "kernelspec": {
   "display_name": "Python 3 (ipykernel)",
   "language": "python",
   "name": "python3"
  },
  "language_info": {
   "codemirror_mode": {
    "name": "ipython",
    "version": 3
   },
   "file_extension": ".py",
   "mimetype": "text/x-python",
   "name": "python",
   "nbconvert_exporter": "python",
   "pygments_lexer": "ipython3",
   "version": "3.10.5"
  }
 },
 "nbformat": 4,
 "nbformat_minor": 5
}
